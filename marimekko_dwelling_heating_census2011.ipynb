{
 "cells": [
  {
   "cell_type": "markdown",
   "id": "47ad0a19-2d91-4472-beba-c30c281a46e2",
   "metadata": {},
   "source": [
    "# Marimekko Charts aus dem Zensus 2011 mit Python"
   ]
  },
  {
   "cell_type": "code",
   "execution_count": 22,
   "id": "52325f0d-17b9-46a3-bc0d-8041aacc270b",
   "metadata": {},
   "outputs": [],
   "source": [
    "import pandas as pd\n",
    "import matplotlib.pyplot as plt"
   ]
  },
  {
   "cell_type": "code",
   "execution_count": 23,
   "id": "b617875d-a6f6-425f-aa37-73a9ae794e03",
   "metadata": {},
   "outputs": [],
   "source": [
    "plt.rcParams['svg.fonttype'] = 'none'\n",
    "plt.rcParams['font.family'] = 'Statis Sans'"
   ]
  },
  {
   "cell_type": "markdown",
   "id": "a08076e8-6a70-4f9f-87c0-f47df4dbd193",
   "metadata": {
    "tags": []
   },
   "source": [
    "## Tutorials, Inspiration\n",
    "https://towardsdatascience.com/marimekko-charts-with-pythons-matplotlib-6b9784ae73a1  \n",
    "https://pythonguides.com/stacked-bar-chart-matplotlib/\n",
    "## Daten\n",
    "Gebäude mit Wohnraum nach Baujahr und Heizungsart  \n",
    "https://ergebnisse2011.zensus2022.de/datenbank//online?operation=table&code=3000G-2004"
   ]
  },
  {
   "cell_type": "code",
   "execution_count": 24,
   "id": "23a05451-9d58-43ee-be6e-532ff9afea08",
   "metadata": {},
   "outputs": [],
   "source": [
    "# download flatfile csv from web interface\n",
    "# beware: leading zeros in regional ID, windows encoding when using web interface\n",
    "df_ffcsv_web = pd.read_csv(\"3000G-2004-GEOLK1_flat.csv\", sep=\";\", encoding=\"1252\", na_values=['-'], \\\n",
    "                           dtype={\"1_Auspraegung_Code\": str, \"GEB001__Gebaeude_mit_Wohnraum__Anzahl\": float})\\\n",
    "                            .fillna(0)"
   ]
  },
  {
   "cell_type": "code",
   "execution_count": 25,
   "id": "23ff72fd-17cc-4b71-87ee-492e7382ef9d",
   "metadata": {},
   "outputs": [],
   "source": [
    "# shorten labels\n",
    "df_ffcsv_web = df_ffcsv_web.replace(\"Einzel-/Mehrraumöfen (auch Nachtspeicherheizung)\", \"Ofen/ Nachtspeicher\")\n",
    "df_ffcsv_web = df_ffcsv_web.replace(\"Keine Heizung im Gebäude oder in den Wohnungen\", \"Keine Heizung\")\n",
    "df_ffcsv_web = df_ffcsv_web.replace(\"Fernheizung (Fernwärme)\", \"Fernwärme\")"
   ]
  },
  {
   "cell_type": "code",
   "execution_count": 26,
   "id": "1ea427e9-7491-4b83-83c7-8eb64c319d91",
   "metadata": {},
   "outputs": [],
   "source": [
    "# drop sums\n",
    "df_ffcsv_web = df_ffcsv_web[df_ffcsv_web[\"2_Auspraegung_Label\"]!=\"Insgesamt\"]\n",
    "df_ffcsv_web = df_ffcsv_web[df_ffcsv_web[\"3_Auspraegung_Label\"]!=\"Insgesamt\"]"
   ]
  },
  {
   "cell_type": "code",
   "execution_count": 27,
   "id": "fe6c59f2-0160-4c4b-a58c-3792e268f3ed",
   "metadata": {},
   "outputs": [
    {
     "data": {
      "text/html": [
       "<div>\n",
       "<style scoped>\n",
       "    .dataframe tbody tr th:only-of-type {\n",
       "        vertical-align: middle;\n",
       "    }\n",
       "\n",
       "    .dataframe tbody tr th {\n",
       "        vertical-align: top;\n",
       "    }\n",
       "\n",
       "    .dataframe thead th {\n",
       "        text-align: right;\n",
       "    }\n",
       "</style>\n",
       "<table border=\"1\" class=\"dataframe\">\n",
       "  <thead>\n",
       "    <tr style=\"text-align: right;\">\n",
       "      <th></th>\n",
       "      <th>Statistik_Code</th>\n",
       "      <th>Statistik_Label</th>\n",
       "      <th>Zeit_Code</th>\n",
       "      <th>Zeit_Label</th>\n",
       "      <th>Zeit</th>\n",
       "      <th>1_Merkmal_Code</th>\n",
       "      <th>1_Merkmal_Label</th>\n",
       "      <th>1_Auspraegung_Code</th>\n",
       "      <th>1_Auspraegung_Label</th>\n",
       "      <th>2_Merkmal_Code</th>\n",
       "      <th>2_Merkmal_Label</th>\n",
       "      <th>2_Auspraegung_Code</th>\n",
       "      <th>2_Auspraegung_Label</th>\n",
       "      <th>3_Merkmal_Code</th>\n",
       "      <th>3_Merkmal_Label</th>\n",
       "      <th>3_Auspraegung_Code</th>\n",
       "      <th>3_Auspraegung_Label</th>\n",
       "      <th>GEB001__Gebaeude_mit_Wohnraum__Anzahl</th>\n",
       "    </tr>\n",
       "  </thead>\n",
       "  <tbody>\n",
       "    <tr>\n",
       "      <th>8</th>\n",
       "      <td>3000G</td>\n",
       "      <td>Gebäude</td>\n",
       "      <td>STAG</td>\n",
       "      <td>Stichtag</td>\n",
       "      <td>09.05.2011</td>\n",
       "      <td>GEOLK1</td>\n",
       "      <td>Landkreise und kreisfreie Städte</td>\n",
       "      <td>01001</td>\n",
       "      <td>Flensburg, Stadt</td>\n",
       "      <td>GEBBJ3</td>\n",
       "      <td>Baujahr (Mikrozensus-Klassen)</td>\n",
       "      <td>BAU0000B1918</td>\n",
       "      <td>Vor 1919</td>\n",
       "      <td>HZGAT1</td>\n",
       "      <td>Heizungsart</td>\n",
       "      <td>HEIZ-FERN</td>\n",
       "      <td>Fernwärme</td>\n",
       "      <td>2148.0</td>\n",
       "    </tr>\n",
       "    <tr>\n",
       "      <th>9</th>\n",
       "      <td>3000G</td>\n",
       "      <td>Gebäude</td>\n",
       "      <td>STAG</td>\n",
       "      <td>Stichtag</td>\n",
       "      <td>09.05.2011</td>\n",
       "      <td>GEOLK1</td>\n",
       "      <td>Landkreise und kreisfreie Städte</td>\n",
       "      <td>01001</td>\n",
       "      <td>Flensburg, Stadt</td>\n",
       "      <td>GEBBJ3</td>\n",
       "      <td>Baujahr (Mikrozensus-Klassen)</td>\n",
       "      <td>BAU0000B1918</td>\n",
       "      <td>Vor 1919</td>\n",
       "      <td>HZGAT1</td>\n",
       "      <td>Heizungsart</td>\n",
       "      <td>HEIZ-ETAGE</td>\n",
       "      <td>Etagenheizung</td>\n",
       "      <td>5.0</td>\n",
       "    </tr>\n",
       "    <tr>\n",
       "      <th>10</th>\n",
       "      <td>3000G</td>\n",
       "      <td>Gebäude</td>\n",
       "      <td>STAG</td>\n",
       "      <td>Stichtag</td>\n",
       "      <td>09.05.2011</td>\n",
       "      <td>GEOLK1</td>\n",
       "      <td>Landkreise und kreisfreie Städte</td>\n",
       "      <td>01001</td>\n",
       "      <td>Flensburg, Stadt</td>\n",
       "      <td>GEBBJ3</td>\n",
       "      <td>Baujahr (Mikrozensus-Klassen)</td>\n",
       "      <td>BAU0000B1918</td>\n",
       "      <td>Vor 1919</td>\n",
       "      <td>HZGAT1</td>\n",
       "      <td>Heizungsart</td>\n",
       "      <td>HEIZ-BLOCK</td>\n",
       "      <td>Blockheizung</td>\n",
       "      <td>3.0</td>\n",
       "    </tr>\n",
       "  </tbody>\n",
       "</table>\n",
       "</div>"
      ],
      "text/plain": [
       "   Statistik_Code Statistik_Label Zeit_Code Zeit_Label        Zeit  \\\n",
       "8           3000G         Gebäude      STAG   Stichtag  09.05.2011   \n",
       "9           3000G         Gebäude      STAG   Stichtag  09.05.2011   \n",
       "10          3000G         Gebäude      STAG   Stichtag  09.05.2011   \n",
       "\n",
       "   1_Merkmal_Code                   1_Merkmal_Label 1_Auspraegung_Code  \\\n",
       "8          GEOLK1  Landkreise und kreisfreie Städte              01001   \n",
       "9          GEOLK1  Landkreise und kreisfreie Städte              01001   \n",
       "10         GEOLK1  Landkreise und kreisfreie Städte              01001   \n",
       "\n",
       "   1_Auspraegung_Label 2_Merkmal_Code                2_Merkmal_Label  \\\n",
       "8     Flensburg, Stadt         GEBBJ3  Baujahr (Mikrozensus-Klassen)   \n",
       "9     Flensburg, Stadt         GEBBJ3  Baujahr (Mikrozensus-Klassen)   \n",
       "10    Flensburg, Stadt         GEBBJ3  Baujahr (Mikrozensus-Klassen)   \n",
       "\n",
       "   2_Auspraegung_Code 2_Auspraegung_Label 3_Merkmal_Code 3_Merkmal_Label  \\\n",
       "8        BAU0000B1918            Vor 1919         HZGAT1     Heizungsart   \n",
       "9        BAU0000B1918            Vor 1919         HZGAT1     Heizungsart   \n",
       "10       BAU0000B1918            Vor 1919         HZGAT1     Heizungsart   \n",
       "\n",
       "   3_Auspraegung_Code 3_Auspraegung_Label  \\\n",
       "8           HEIZ-FERN           Fernwärme   \n",
       "9          HEIZ-ETAGE       Etagenheizung   \n",
       "10         HEIZ-BLOCK        Blockheizung   \n",
       "\n",
       "    GEB001__Gebaeude_mit_Wohnraum__Anzahl  \n",
       "8                                  2148.0  \n",
       "9                                     5.0  \n",
       "10                                    3.0  "
      ]
     },
     "execution_count": 27,
     "metadata": {},
     "output_type": "execute_result"
    }
   ],
   "source": [
    "df_ffcsv_web.head(3)"
   ]
  },
  {
   "cell_type": "code",
   "execution_count": 28,
   "id": "f131e85f-36e7-4209-899a-5fd1866a8ee7",
   "metadata": {
    "jupyter": {
     "source_hidden": true
    },
    "tags": []
   },
   "outputs": [],
   "source": [
    "laenderNamenLang = {\n",
    "        \"01\" : \"Schleswig-Holstein\",\n",
    "        \"02\" : \"Freie und Hansestadt Hamburg\",\n",
    "        \"03\" : \"Niedersachsen\",\n",
    "        \"04\" : \"Freie Hansestadt Bremen\",\n",
    "        \"05\" : \"Nordrhein-Westfalen\",\n",
    "        \"06\" : \"Hessen\",\n",
    "        \"07\" : \"Rheinland-Pfalz\",\n",
    "        \"08\" : \"Baden-Württemberg\",\n",
    "        \"09\" : \"Freistaat Bayern\",\n",
    "        \"10\" : \"Saarland\",\n",
    "        \"11\" : \"Berlin\",\n",
    "        \"12\" : \"Brandenburg\",\n",
    "        \"13\" : \"Mecklenburg-Vorpommern\",\n",
    "        \"14\" : \"Freistaat Sachsen\",\n",
    "        \"15\" : \"Sachsen-Anhalt\",\n",
    "        \"16\" : \"Freistaat Thüringen\"\n",
    "}"
   ]
  },
  {
   "cell_type": "code",
   "execution_count": 29,
   "id": "14d42b6d-741c-4728-ad2f-3877ab024484",
   "metadata": {},
   "outputs": [],
   "source": [
    "laenderNamenAbk = {\n",
    "        \"01\" : \"SH\",\n",
    "        \"02\" : \"HH\",\n",
    "        \"03\" : \"NI\",\n",
    "        \"04\" : \"HB\",\n",
    "        \"05\" : \"NW\",\n",
    "        \"06\" : \"HE\",\n",
    "        \"07\" : \"RP\",\n",
    "        \"08\" : \"BW\",\n",
    "        \"09\" : \"BY\",\n",
    "        \"10\" : \"SL\",\n",
    "        \"11\" : \"BE\",\n",
    "        \"12\" : \"BB\",\n",
    "        \"13\" : \"MV\",\n",
    "        \"14\" : \"SN\",\n",
    "        \"15\" : \"ST\",\n",
    "        \"16\" : \"TH\"\n",
    "}"
   ]
  },
  {
   "cell_type": "code",
   "execution_count": 30,
   "id": "ed33daa3-324c-4814-b7ff-417ec4b3ea40",
   "metadata": {},
   "outputs": [],
   "source": [
    "columncolor = {\n",
    "    \"Fernwärme\" : \"darkmagenta\",\n",
    "    \"Etagenheizung\" : \"darkorange\",\n",
    "    \"Blockheizung\" : \"green\",\n",
    "    \"Zentralheizung\" : \"gold\",\n",
    "    \"Ofen/ Nachtspeicher\" : \"steelblue\",\n",
    "    \"Keine Heizung\" : \"silver\"\n",
    "}"
   ]
  },
  {
   "cell_type": "code",
   "execution_count": 31,
   "id": "9ce8d7de-e765-4cb9-9070-ed33a1f00bfc",
   "metadata": {},
   "outputs": [],
   "source": [
    "heizungSort = [\"Fernwärme\",\"Etagenheizung\",\"Blockheizung\",\"Zentralheizung\",\"Ofen/ Nachtspeicher\",\"Keine Heizung\"]"
   ]
  },
  {
   "cell_type": "code",
   "execution_count": 41,
   "id": "568b4b45-81d1-4b01-885c-f8da6c4ddce1",
   "metadata": {},
   "outputs": [],
   "source": [
    "def marimekkoChart(chartAGS):\n",
    "    \n",
    "    tmp_df = df_ffcsv_web[df_ffcsv_web[\"1_Auspraegung_Code\"]==chartAGS]\\\n",
    "                .rename(columns={\"2_Auspraegung_Label\": \"Baujahr\"})\n",
    "    \n",
    "    tmp_Name = tmp_df[\"1_Auspraegung_Label\"].iloc[0]\n",
    "\n",
    "    tmp_df = tmp_df.pivot(index=\"Baujahr\", columns=\"3_Auspraegung_Label\", values=\"GEB001__Gebaeude_mit_Wohnraum__Anzahl\")\\\n",
    "                .reindex([\"Vor 1919\", \"1919 - 1948\", \"1949 - 1978\", \"1979 - 1986\", \"1987 - 1990\", \n",
    "                \"1991 - 1995\", \"1996 - 2000\", \"2001 - 2004\", \"2005 - 2008\", \"2009 und später\"])\n",
    "\n",
    "    dims = (18,10)\n",
    "    fig, ax = plt.subplots(1, figsize=dims, dpi=120, facecolor='white')\n",
    "\n",
    "    plt.title(\"Gebäude mit Wohnraum nach Baujahr und Heizungsart\", fontsize = 18, fontweight=\"bold\", loc=\"left\", pad=75)\n",
    "    ax.text(0, 1.08, tmp_Name+\" (\"+laenderNamenAbk[chartAGS[0:2]]+\") 2011\", ha=\"left\", fontsize = 16)\n",
    "\n",
    "    x = tmp_df.sum(axis=1)\n",
    "    x_label = tmp_df.index\n",
    "\n",
    "    width = [i/sum(x) for i in x]\n",
    "    # calculate x coordinates based on the width of the previous bars\n",
    "    # same as: [0, width[0], width[0] + width[1], width[0] + width[1] + width[2]]\n",
    "    adjusted_x, temp = [0], 0\n",
    "    for i in width[:-1]:\n",
    "        temp += i\n",
    "        adjusted_x.append(temp)\n",
    "\n",
    "    # Marimekko chart\n",
    "    bottom_j = 0\n",
    "\n",
    "    # for j in tmp_df.columns:\n",
    "    for j in heizungSort:\n",
    "        \n",
    "        ant_j = tmp_df[j]/x\n",
    "        plt.bar(adjusted_x, ant_j, bottom = bottom_j, width=width, align = 'edge', edgecolor='black', linewidth=.5, label=j, color=columncolor[j])\n",
    "        bottom_j += ant_j\n",
    "        \n",
    "    # x and y ticks (%)\n",
    "    ax.set_yticks([0, 0.25, 0.5, 0.75, 1])\n",
    "    ax.set_yticklabels(['0%', '25%', '50%', '75%', '100%'], fontsize=10)\n",
    "    ax.set_xticks([(width[i]/2)+ v for i, v in enumerate(adjusted_x)])\n",
    "    #ax.set_xticklabels(x_label, fontsize=10)\n",
    "    # MAKE SURE THESE LABELS MATCH INDEX POSITIONS\n",
    "    # use only for line breaks and other layout finetuning\n",
    "    ax.set_xticklabels([\"Vor\\n1919\", \"1919\\n-\\n1948\", \"1949\\n-\\n1978\", \"1979\\n-\\n1986\", \"1987\\n-\\n1990\",\\\n",
    "                \"1991\\n-\\n1995\", \"1996\\n-\\n2000\", \"2001\\n-\\n2004\", \"2005\\n-\\n2008\", \"ab\\n2009\"], fontsize=10)\n",
    "    plt.ylim(0,1)\n",
    "    plt.xlim(0,1)\n",
    "    # twin y-axis to draw x-ticks at the top\n",
    "    axy = ax.twiny()\n",
    "    axy.set_xticks([0, 0.25, 0.5, 0.75, 1])\n",
    "    axy.set_xticklabels(['0%', '25%', '50%', '75%', '100%'], fontsize=10)\n",
    "    ax.set_ylabel('Heizungsart', fontsize = 14, labelpad=10)\n",
    "    ax.set_xlabel('Gebäude nach Baujahr', fontsize = 14, labelpad=10)\n",
    "\n",
    "    # horizontal legend\n",
    "    # fig.legend(bbox_to_anchor=[0.45, 0.01], loc='center', ncol=len(tmp_df.columns), frameon=False)\n",
    "    handles, labels = ax.get_legend_handles_labels()\n",
    "    plt.legend(handles[::-1], labels[::-1], frameon=False, loc=5, labelspacing = 1.2, fontsize=12, handletextpad=0.7, bbox_to_anchor=(1.18, 0.25))\n",
    "\n",
    "    plt.savefig('charts/'+chartAGS+'_'+tmp_Name+'.png', bbox_inches='tight', pad_inches=0.25)\n",
    "    plt.close()\n",
    "    #    plt.show()"
   ]
  },
  {
   "cell_type": "code",
   "execution_count": 42,
   "id": "0a912b46-4cb0-4e96-a11d-08eabbf56ab6",
   "metadata": {},
   "outputs": [],
   "source": [
    "# test chart function once\n",
    "marimekkoChart(\"15083\")"
   ]
  },
  {
   "cell_type": "code",
   "execution_count": 34,
   "id": "2ce5c732-1805-4b77-b2a2-c9c935ffe1f2",
   "metadata": {},
   "outputs": [],
   "source": [
    "# all regional IDs (NUTS-3 in this case)\n",
    "GEOLK1_AGS = df_ffcsv_web[\"1_Auspraegung_Code\"]\n",
    "GEOLK1_AGS = GEOLK1_AGS.drop_duplicates()"
   ]
  },
  {
   "cell_type": "code",
   "execution_count": 43,
   "id": "0b8f234e-c69a-46d2-b703-f6b788c16ce5",
   "metadata": {},
   "outputs": [],
   "source": [
    "for meinAGS in GEOLK1_AGS:\n",
    "    try: \n",
    "        marimekkoChart(meinAGS)\n",
    "    except:\n",
    "        plt.close()\n",
    "        print(meinAGS+\" failed\")"
   ]
  },
  {
   "cell_type": "code",
   "execution_count": null,
   "id": "96352495-571f-46be-a8c6-fad32f630a94",
   "metadata": {},
   "outputs": [],
   "source": []
  }
 ],
 "metadata": {
  "kernelspec": {
   "display_name": "Python [conda env:root] *",
   "language": "python",
   "name": "conda-root-py"
  },
  "language_info": {
   "codemirror_mode": {
    "name": "ipython",
    "version": 3
   },
   "file_extension": ".py",
   "mimetype": "text/x-python",
   "name": "python",
   "nbconvert_exporter": "python",
   "pygments_lexer": "ipython3",
   "version": "3.8.13"
  }
 },
 "nbformat": 4,
 "nbformat_minor": 5
}
